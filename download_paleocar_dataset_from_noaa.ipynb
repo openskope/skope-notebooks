{
 "cells": [
  {
   "cell_type": "markdown",
   "metadata": {},
   "source": [
    "# Download the PaleoCAR data files"
   ]
  },
  {
   "cell_type": "markdown",
   "metadata": {},
   "source": [
    "### Get list of NetCDF files in dataset directory on NOAA web site"
   ]
  },
  {
   "cell_type": "code",
   "execution_count": 31,
   "metadata": {},
   "outputs": [],
   "source": [
    "import ipywidgets as widgets\n",
    "import os.path\n",
    "import pandas as pd\n",
    "import requests\n",
    "import osr\n",
    "import numpy as np\n",
    "from osgeo import gdal"
   ]
  },
  {
   "cell_type": "markdown",
   "metadata": {},
   "source": [
    "### Define url of directory at NOAA containing the data files to download"
   ]
  },
  {
   "cell_type": "code",
   "execution_count": 32,
   "metadata": {},
   "outputs": [],
   "source": [
    "dataset_url = 'http://www1.ncdc.noaa.gov/pub/data/paleo/treering/reconstructions/northamerica/usa/bocinsky2016/'\n",
    "default_destination_dir = '/projects/skope/original/paleocar/'"
   ]
  },
  {
   "cell_type": "markdown",
   "metadata": {},
   "source": [
    "### Get the names of files corresponding to each of the two data set variables"
   ]
  },
  {
   "cell_type": "code",
   "execution_count": 33,
   "metadata": {},
   "outputs": [],
   "source": [
    "# load first html table at url into a dataframe\n",
    "table = pd.read_html(dataset_url)[0]\n",
    "\n",
    "# discard table rows with nulls in column 1\n",
    "valid_rows = table.dropna(subset=[1])\n",
    "\n",
    "# get column of file names\n",
    "file_names = valid_rows[1]\n",
    "\n",
    "# get names of files corresponding to the GDD and PPT variables\n",
    "gdd_file_names = list(file_names[file_names.str.contains('GDD.nc4')])\n",
    "ppt_file_names = list(file_names[file_names.str.contains('PPT.nc4')])\n",
    "\n",
    "gdd_total_file_count = len(gdd_file_names)\n",
    "ppt_total_file_count = len(ppt_file_names)\n",
    "\n",
    "# make sure there are 155 files for each variable\n",
    "assert gdd_total_file_count == 155\n",
    "assert ppt_total_file_count == 155"
   ]
  },
  {
   "cell_type": "markdown",
   "metadata": {},
   "source": [
    "### Specify the number of files to download for each variable"
   ]
  },
  {
   "cell_type": "code",
   "execution_count": 34,
   "metadata": {
    "scrolled": true
   },
   "outputs": [
    {
     "data": {
      "application/vnd.jupyter.widget-view+json": {
       "model_id": "554700258fbc48b7b7acb37e5d056121",
       "version_major": 2,
       "version_minor": 0
      },
      "text/plain": [
       "Text(value='/projects/skope/original/paleocar/', description='Download to')"
      ]
     },
     "metadata": {},
     "output_type": "display_data"
    },
    {
     "data": {
      "application/vnd.jupyter.widget-view+json": {
       "model_id": "cabc639a1703418081fb1b004bb35dc7",
       "version_major": 2,
       "version_minor": 0
      },
      "text/plain": [
       "IntSlider(value=155, description='GDD files', max=155, min=1)"
      ]
     },
     "metadata": {},
     "output_type": "display_data"
    },
    {
     "data": {
      "application/vnd.jupyter.widget-view+json": {
       "model_id": "69203edede9e4b33bc55baf1017dd9e4",
       "version_major": 2,
       "version_minor": 0
      },
      "text/plain": [
       "IntSlider(value=155, description='PPT files', max=155, min=1)"
      ]
     },
     "metadata": {},
     "output_type": "display_data"
    },
    {
     "data": {
      "application/vnd.jupyter.widget-view+json": {
       "model_id": "478bc34980f442f59addadfb165b6666",
       "version_major": 2,
       "version_minor": 0
      },
      "text/plain": [
       "Button(description='Download not started', disabled=True, style=ButtonStyle())"
      ]
     },
     "metadata": {},
     "output_type": "display_data"
    }
   ],
   "source": [
    "download_to_directory = widgets.Text(\n",
    "    description = \"Download to\", value=default_destination_dir)\n",
    "\n",
    "gdd_selected_file_count = widgets.IntSlider(\n",
    "    description = \"GDD files\", \n",
    "    min         = 1, \n",
    "    max         = gdd_total_file_count, \n",
    "    value       = gdd_total_file_count\n",
    ")\n",
    "\n",
    "ppt_selected_file_count = widgets.IntSlider(\n",
    "    description = \"PPT files\", \n",
    "    min         = 1, \n",
    "    max         = ppt_total_file_count, \n",
    "    value       = ppt_total_file_count\n",
    ")\n",
    "\n",
    "download_status = widgets.Button(\n",
    "    description = 'Download not started',\n",
    "    disabled    = True\n",
    ")\n",
    "\n",
    "display(\n",
    "    download_to_directory,\n",
    "    gdd_selected_file_count, \n",
    "    ppt_selected_file_count, \n",
    "    download_status\n",
    ")"
   ]
  },
  {
   "cell_type": "markdown",
   "metadata": {},
   "source": [
    "### Download the selected number of files for each variable of the dataset"
   ]
  },
  {
   "cell_type": "code",
   "execution_count": 35,
   "metadata": {},
   "outputs": [
    {
     "name": "stdout",
     "output_type": "stream",
     "text": [
      "103W31N_GDD.nc4 already downloaded\n",
      "103W32N_GDD.nc4 already downloaded\n",
      "103W33N_GDD.nc4 already downloaded\n",
      "103W34N_GDD.nc4 already downloaded\n",
      "103W35N_GDD.nc4 already downloaded\n",
      "103W36N_GDD.nc4 already downloaded\n",
      "103W37N_GDD.nc4 already downloaded\n",
      "103W38N_GDD.nc4 already downloaded\n",
      "103W39N_GDD.nc4 already downloaded\n",
      "103W40N_GDD.nc4 already downloaded\n",
      "103W41N_GDD.nc4 already downloaded\n",
      "103W42N_GDD.nc4 already downloaded\n",
      "104W31N_GDD.nc4 already downloaded\n",
      "104W32N_GDD.nc4 already downloaded\n",
      "104W33N_GDD.nc4 already downloaded\n",
      "104W34N_GDD.nc4 already downloaded\n",
      "104W35N_GDD.nc4 already downloaded\n",
      "104W36N_GDD.nc4 already downloaded\n",
      "104W37N_GDD.nc4 already downloaded\n",
      "104W38N_GDD.nc4 already downloaded\n",
      "104W39N_GDD.nc4 already downloaded\n",
      "104W40N_GDD.nc4 already downloaded\n",
      "104W41N_GDD.nc4 already downloaded\n",
      "104W42N_GDD.nc4 already downloaded\n",
      "105W31N_GDD.nc4 already downloaded\n",
      "105W32N_GDD.nc4 already downloaded\n",
      "105W33N_GDD.nc4 already downloaded\n",
      "105W34N_GDD.nc4 already downloaded\n",
      "105W35N_GDD.nc4 already downloaded\n",
      "105W36N_GDD.nc4 already downloaded\n",
      "105W37N_GDD.nc4 already downloaded\n",
      "105W38N_GDD.nc4 already downloaded\n",
      "105W39N_GDD.nc4 already downloaded\n",
      "105W40N_GDD.nc4 already downloaded\n",
      "105W41N_GDD.nc4 already downloaded\n",
      "105W42N_GDD.nc4 already downloaded\n",
      "106W31N_GDD.nc4 already downloaded\n",
      "106W32N_GDD.nc4 already downloaded\n",
      "106W33N_GDD.nc4 already downloaded\n",
      "106W34N_GDD.nc4 already downloaded\n",
      "106W35N_GDD.nc4 already downloaded\n",
      "106W36N_GDD.nc4 already downloaded\n",
      "106W37N_GDD.nc4 already downloaded\n",
      "106W38N_GDD.nc4 already downloaded\n",
      "106W39N_GDD.nc4 already downloaded\n",
      "106W40N_GDD.nc4 already downloaded\n",
      "106W41N_GDD.nc4 already downloaded\n",
      "106W42N_GDD.nc4 already downloaded\n",
      "107W31N_GDD.nc4 already downloaded\n",
      "107W32N_GDD.nc4 already downloaded\n",
      "107W33N_GDD.nc4 already downloaded\n",
      "107W34N_GDD.nc4 already downloaded\n",
      "107W35N_GDD.nc4 already downloaded\n",
      "107W36N_GDD.nc4 already downloaded\n",
      "107W37N_GDD.nc4 already downloaded\n",
      "107W38N_GDD.nc4 already downloaded\n",
      "107W39N_GDD.nc4 already downloaded\n",
      "107W40N_GDD.nc4 already downloaded\n",
      "107W41N_GDD.nc4 already downloaded\n",
      "107W42N_GDD.nc4 already downloaded\n",
      "108W31N_GDD.nc4 already downloaded\n",
      "108W32N_GDD.nc4 already downloaded\n",
      "108W33N_GDD.nc4 already downloaded\n",
      "108W34N_GDD.nc4 already downloaded\n",
      "108W35N_GDD.nc4 already downloaded\n",
      "108W36N_GDD.nc4 already downloaded\n",
      "108W37N_GDD.nc4 already downloaded\n",
      "108W38N_GDD.nc4 already downloaded\n",
      "108W39N_GDD.nc4 already downloaded\n",
      "108W40N_GDD.nc4 already downloaded\n",
      "108W41N_GDD.nc4 already downloaded\n",
      "108W42N_GDD.nc4 already downloaded\n",
      "109W31N_GDD.nc4 already downloaded\n",
      "109W32N_GDD.nc4 already downloaded\n",
      "109W33N_GDD.nc4 already downloaded\n",
      "109W34N_GDD.nc4 already downloaded\n",
      "109W35N_GDD.nc4 already downloaded\n",
      "109W36N_GDD.nc4 already downloaded\n",
      "109W37N_GDD.nc4 already downloaded\n",
      "109W38N_GDD.nc4 already downloaded\n",
      "109W39N_GDD.nc4 already downloaded\n",
      "109W40N_GDD.nc4 already downloaded\n",
      "109W41N_GDD.nc4 already downloaded\n",
      "109W42N_GDD.nc4 already downloaded\n",
      "110W31N_GDD.nc4 already downloaded\n",
      "110W32N_GDD.nc4 already downloaded\n",
      "110W33N_GDD.nc4 already downloaded\n",
      "110W34N_GDD.nc4 already downloaded\n",
      "110W35N_GDD.nc4 already downloaded\n",
      "110W36N_GDD.nc4 already downloaded\n",
      "110W37N_GDD.nc4 already downloaded\n",
      "110W38N_GDD.nc4 already downloaded\n",
      "110W39N_GDD.nc4 already downloaded\n",
      "110W40N_GDD.nc4 already downloaded\n",
      "110W41N_GDD.nc4 already downloaded\n",
      "110W42N_GDD.nc4 already downloaded\n",
      "111W31N_GDD.nc4 already downloaded\n",
      "111W32N_GDD.nc4 already downloaded\n",
      "111W33N_GDD.nc4 already downloaded\n",
      "111W34N_GDD.nc4 already downloaded\n",
      "111W35N_GDD.nc4 already downloaded\n",
      "111W36N_GDD.nc4 already downloaded\n",
      "111W37N_GDD.nc4 already downloaded\n",
      "111W38N_GDD.nc4 already downloaded\n",
      "111W39N_GDD.nc4 already downloaded\n",
      "111W40N_GDD.nc4 already downloaded\n",
      "111W41N_GDD.nc4 already downloaded\n",
      "111W42N_GDD.nc4 already downloaded\n",
      "112W31N_GDD.nc4 already downloaded\n",
      "112W32N_GDD.nc4 already downloaded\n",
      "112W33N_GDD.nc4 already downloaded\n",
      "112W34N_GDD.nc4 already downloaded\n",
      "112W35N_GDD.nc4 already downloaded\n",
      "112W36N_GDD.nc4 already downloaded\n",
      "112W37N_GDD.nc4 already downloaded\n",
      "112W38N_GDD.nc4 already downloaded\n",
      "112W39N_GDD.nc4 already downloaded\n",
      "112W40N_GDD.nc4 already downloaded\n",
      "112W41N_GDD.nc4 already downloaded\n",
      "112W42N_GDD.nc4 already downloaded\n",
      "113W31N_GDD.nc4 already downloaded\n",
      "113W32N_GDD.nc4 already downloaded\n",
      "113W33N_GDD.nc4 already downloaded\n",
      "113W34N_GDD.nc4 already downloaded\n",
      "113W35N_GDD.nc4 already downloaded\n",
      "113W36N_GDD.nc4 already downloaded\n",
      "113W37N_GDD.nc4 already downloaded\n",
      "113W38N_GDD.nc4 already downloaded\n",
      "113W39N_GDD.nc4 already downloaded\n",
      "113W40N_GDD.nc4 already downloaded\n",
      "113W41N_GDD.nc4 already downloaded\n",
      "113W42N_GDD.nc4 already downloaded\n",
      "114W31N_GDD.nc4 already downloaded\n",
      "114W32N_GDD.nc4 already downloaded\n",
      "114W33N_GDD.nc4 already downloaded\n",
      "114W34N_GDD.nc4 already downloaded\n",
      "114W35N_GDD.nc4 already downloaded\n",
      "114W36N_GDD.nc4 already downloaded\n",
      "114W37N_GDD.nc4 already downloaded\n",
      "114W38N_GDD.nc4 already downloaded\n",
      "114W39N_GDD.nc4 already downloaded\n",
      "114W40N_GDD.nc4 already downloaded\n",
      "114W41N_GDD.nc4 already downloaded\n",
      "114W42N_GDD.nc4 already downloaded\n",
      "115W32N_GDD.nc4 already downloaded\n",
      "115W33N_GDD.nc4 already downloaded\n",
      "115W34N_GDD.nc4 already downloaded\n",
      "115W35N_GDD.nc4 already downloaded\n",
      "115W36N_GDD.nc4 already downloaded\n",
      "115W37N_GDD.nc4 already downloaded\n",
      "115W38N_GDD.nc4 already downloaded\n",
      "115W39N_GDD.nc4 already downloaded\n",
      "115W40N_GDD.nc4 already downloaded\n",
      "115W41N_GDD.nc4 already downloaded\n",
      "115W42N_GDD.nc4 already downloaded\n",
      "\n",
      "Total of 155 files downloaded\n",
      "\n",
      "103W31N_PPT.nc4 already downloaded\n",
      "103W32N_PPT.nc4 already downloaded\n",
      "103W33N_PPT.nc4 already downloaded\n",
      "103W34N_PPT.nc4 already downloaded\n",
      "103W35N_PPT.nc4 already downloaded\n",
      "103W36N_PPT.nc4 already downloaded\n",
      "103W37N_PPT.nc4 already downloaded\n",
      "103W38N_PPT.nc4 already downloaded\n",
      "103W39N_PPT.nc4 already downloaded\n",
      "103W40N_PPT.nc4 already downloaded\n",
      "103W41N_PPT.nc4 already downloaded\n",
      "103W42N_PPT.nc4 already downloaded\n",
      "104W31N_PPT.nc4 already downloaded\n",
      "104W32N_PPT.nc4 already downloaded\n",
      "104W33N_PPT.nc4 already downloaded\n",
      "104W34N_PPT.nc4 already downloaded\n",
      "104W35N_PPT.nc4 already downloaded\n",
      "104W36N_PPT.nc4 already downloaded\n",
      "104W37N_PPT.nc4 already downloaded\n",
      "104W38N_PPT.nc4 already downloaded\n",
      "104W39N_PPT.nc4 already downloaded\n",
      "104W40N_PPT.nc4 already downloaded\n",
      "104W41N_PPT.nc4 already downloaded\n",
      "104W42N_PPT.nc4 already downloaded\n",
      "105W31N_PPT.nc4 already downloaded\n",
      "105W32N_PPT.nc4 already downloaded\n",
      "105W33N_PPT.nc4 already downloaded\n",
      "105W34N_PPT.nc4 already downloaded\n",
      "105W35N_PPT.nc4 already downloaded\n",
      "105W36N_PPT.nc4 already downloaded\n",
      "105W37N_PPT.nc4 already downloaded\n",
      "105W38N_PPT.nc4 already downloaded\n",
      "105W39N_PPT.nc4 already downloaded\n",
      "105W40N_PPT.nc4 already downloaded\n",
      "105W41N_PPT.nc4 already downloaded\n",
      "105W42N_PPT.nc4 already downloaded\n",
      "106W31N_PPT.nc4 already downloaded\n",
      "106W32N_PPT.nc4 already downloaded\n",
      "106W33N_PPT.nc4 already downloaded\n",
      "106W34N_PPT.nc4 already downloaded\n",
      "106W35N_PPT.nc4 already downloaded\n",
      "106W36N_PPT.nc4 already downloaded\n",
      "106W37N_PPT.nc4 already downloaded\n",
      "106W38N_PPT.nc4 already downloaded\n",
      "106W39N_PPT.nc4 already downloaded\n",
      "106W40N_PPT.nc4 already downloaded\n",
      "106W41N_PPT.nc4 already downloaded\n",
      "106W42N_PPT.nc4 already downloaded\n",
      "107W31N_PPT.nc4 already downloaded\n",
      "107W32N_PPT.nc4 already downloaded\n",
      "107W33N_PPT.nc4 already downloaded\n",
      "107W34N_PPT.nc4 already downloaded\n",
      "107W35N_PPT.nc4 already downloaded\n",
      "107W36N_PPT.nc4 already downloaded\n",
      "107W37N_PPT.nc4 already downloaded\n",
      "107W38N_PPT.nc4 already downloaded\n",
      "107W39N_PPT.nc4 already downloaded\n",
      "107W40N_PPT.nc4 already downloaded\n",
      "107W41N_PPT.nc4 already downloaded\n",
      "107W42N_PPT.nc4 already downloaded\n",
      "108W31N_PPT.nc4 already downloaded\n",
      "108W32N_PPT.nc4 already downloaded\n",
      "108W33N_PPT.nc4 already downloaded\n",
      "108W34N_PPT.nc4 already downloaded\n",
      "108W35N_PPT.nc4 already downloaded\n",
      "108W36N_PPT.nc4 already downloaded\n",
      "108W37N_PPT.nc4 already downloaded\n",
      "108W38N_PPT.nc4 already downloaded\n",
      "108W39N_PPT.nc4 already downloaded\n",
      "108W40N_PPT.nc4 already downloaded\n",
      "108W41N_PPT.nc4 already downloaded\n",
      "108W42N_PPT.nc4 already downloaded\n",
      "109W31N_PPT.nc4 already downloaded\n",
      "109W32N_PPT.nc4 already downloaded\n",
      "109W33N_PPT.nc4 already downloaded\n",
      "109W34N_PPT.nc4 already downloaded\n",
      "109W35N_PPT.nc4 already downloaded\n",
      "109W36N_PPT.nc4 already downloaded\n",
      "109W37N_PPT.nc4 already downloaded\n",
      "109W38N_PPT.nc4 already downloaded\n",
      "109W39N_PPT.nc4 already downloaded\n",
      "109W40N_PPT.nc4 already downloaded\n",
      "109W41N_PPT.nc4 already downloaded\n",
      "109W42N_PPT.nc4 already downloaded\n",
      "110W31N_PPT.nc4 already downloaded\n",
      "110W32N_PPT.nc4 already downloaded\n",
      "110W33N_PPT.nc4 already downloaded\n",
      "110W34N_PPT.nc4 already downloaded\n",
      "110W35N_PPT.nc4 already downloaded\n",
      "110W36N_PPT.nc4 already downloaded\n",
      "110W37N_PPT.nc4 already downloaded\n",
      "110W38N_PPT.nc4 already downloaded\n",
      "110W39N_PPT.nc4 already downloaded\n",
      "110W40N_PPT.nc4 already downloaded\n",
      "110W41N_PPT.nc4 already downloaded\n",
      "110W42N_PPT.nc4 already downloaded\n",
      "111W31N_PPT.nc4 already downloaded\n",
      "111W32N_PPT.nc4 already downloaded\n",
      "111W33N_PPT.nc4 already downloaded\n",
      "111W34N_PPT.nc4 already downloaded\n",
      "111W35N_PPT.nc4 already downloaded\n",
      "111W36N_PPT.nc4 already downloaded\n",
      "111W37N_PPT.nc4 already downloaded\n",
      "111W38N_PPT.nc4 already downloaded\n",
      "111W39N_PPT.nc4 already downloaded\n",
      "111W40N_PPT.nc4 already downloaded\n",
      "111W41N_PPT.nc4 already downloaded\n",
      "111W42N_PPT.nc4 already downloaded\n",
      "112W31N_PPT.nc4 already downloaded\n",
      "112W32N_PPT.nc4 already downloaded\n",
      "112W33N_PPT.nc4 already downloaded\n",
      "112W34N_PPT.nc4 already downloaded\n",
      "112W35N_PPT.nc4 already downloaded\n",
      "112W36N_PPT.nc4 already downloaded\n",
      "112W37N_PPT.nc4 already downloaded\n",
      "112W38N_PPT.nc4 already downloaded\n",
      "112W39N_PPT.nc4 already downloaded\n",
      "112W40N_PPT.nc4 already downloaded\n",
      "112W41N_PPT.nc4 already downloaded\n",
      "112W42N_PPT.nc4 already downloaded\n",
      "113W31N_PPT.nc4 already downloaded\n",
      "113W32N_PPT.nc4 already downloaded\n",
      "113W33N_PPT.nc4 already downloaded\n",
      "113W34N_PPT.nc4 already downloaded\n",
      "113W35N_PPT.nc4 already downloaded\n",
      "113W36N_PPT.nc4 already downloaded\n",
      "113W37N_PPT.nc4 already downloaded\n",
      "113W38N_PPT.nc4 already downloaded\n",
      "113W39N_PPT.nc4 already downloaded\n",
      "113W40N_PPT.nc4 already downloaded\n",
      "113W41N_PPT.nc4 already downloaded\n",
      "113W42N_PPT.nc4 already downloaded\n",
      "114W31N_PPT.nc4 already downloaded\n",
      "114W32N_PPT.nc4 already downloaded\n",
      "114W33N_PPT.nc4 already downloaded\n",
      "114W34N_PPT.nc4 already downloaded\n",
      "114W35N_PPT.nc4 already downloaded\n",
      "114W36N_PPT.nc4 already downloaded\n",
      "114W37N_PPT.nc4 already downloaded\n",
      "114W38N_PPT.nc4 already downloaded\n",
      "114W39N_PPT.nc4 already downloaded\n",
      "114W40N_PPT.nc4 already downloaded\n",
      "114W41N_PPT.nc4 already downloaded\n",
      "114W42N_PPT.nc4 already downloaded\n",
      "115W32N_PPT.nc4 already downloaded\n",
      "115W33N_PPT.nc4 already downloaded\n",
      "115W34N_PPT.nc4 already downloaded\n",
      "115W35N_PPT.nc4 already downloaded\n",
      "115W36N_PPT.nc4 already downloaded\n",
      "115W37N_PPT.nc4 already downloaded\n",
      "115W38N_PPT.nc4 already downloaded\n",
      "115W39N_PPT.nc4 already downloaded\n",
      "115W40N_PPT.nc4 already downloaded\n",
      "115W41N_PPT.nc4 already downloaded\n",
      "115W42N_PPT.nc4 already downloaded\n",
      "\n",
      "Total of 155 files downloaded\n",
      "\n"
     ]
    }
   ],
   "source": [
    "destination_dir = download_to_directory.value\n",
    "\n",
    "def download_file(source_url, destination_path):\n",
    "    response = requests.get(source_url)\n",
    "    assert response.status_code == 200\n",
    "    with open(destination_path, 'wb') as f:  \n",
    "        f.write(response.content)\n",
    "\n",
    "def download_file_if_needed(base_url, file_name, destination_dir):\n",
    "    source_url = base_url + file_name\n",
    "    destination_path = destination_dir + '/' + file_name\n",
    "    if os.path.exists(destination_path):\n",
    "        print(file_name, \"already downloaded\")\n",
    "    else:\n",
    "        download_file(source_url, destination_path)\n",
    "        print(file_name, \"finished downloading\")\n",
    "\n",
    "def download_files(file_list, destination_dir):\n",
    "    for i, file_name in enumerate(file_list):\n",
    "        download_file_if_needed(dataset_url, file_name, destination_dir)\n",
    "    print(\"\\nTotal of %d files downloaded\\n\" % (i+1))\n",
    "\n",
    "download_status.description = 'Downloading files'\n",
    "download_files(gdd_file_names[:gdd_selected_file_count.value], destination_dir)\n",
    "download_files(ppt_file_names[:ppt_selected_file_count.value], destination_dir)\n",
    "download_status.description = 'Downloads complete'\n"
   ]
  },
  {
   "cell_type": "markdown",
   "metadata": {},
   "source": [
    "# Display properties of the first downloaded data file"
   ]
  },
  {
   "cell_type": "markdown",
   "metadata": {},
   "source": [
    "### Load the first GDD data file into a GDAL dataset object"
   ]
  },
  {
   "cell_type": "code",
   "execution_count": 138,
   "metadata": {},
   "outputs": [],
   "source": [
    "# get path to first GDD data file\n",
    "path_to_first_gdd_file = destination_dir + \"/\" + gdd_file_names[0]\n",
    "\n",
    "# open the first GDD data file\n",
    "dataset = gdal.Open(path_to_first_gdd_file)\n",
    "\n",
    "# confirm that a Dataset object was returned\n",
    "assert str((type(dataset))) == \"<class 'osgeo.gdal.Dataset'>\""
   ]
  },
  {
   "cell_type": "markdown",
   "metadata": {},
   "source": [
    "### Load and display elements of the raster-space to coordinate-space transform"
   ]
  },
  {
   "cell_type": "code",
   "execution_count": 147,
   "metadata": {},
   "outputs": [
    {
     "name": "stdout",
     "output_type": "stream",
     "text": [
      "Origin:          -102.995833,  31.995833\n",
      "Pixel size:         0.008333,   0.008333\n",
      "Pixels/degree:    120.000000, 120.000000\n",
      "Top-left corner: -103.000000,  31.991667\n"
     ]
    }
   ],
   "source": [
    "# get the transform from the data file\n",
    "geo_transform = dataset.GetGeoTransform()\n",
    "\n",
    "# confirm that this indeed is a North-Up transformation (ignored elements of transform are both zero)\n",
    "assert geo_transform[2] == 0\n",
    "assert geo_transform[4] == 0\n",
    "\n",
    "# extract the origin and pixel dimensions from the transform\n",
    "origin_x      = geo_transform[0]\n",
    "origin_y      = geo_transform[3]\n",
    "pixel_size_x  = abs(geo_transform[1])\n",
    "pixel_size_y  = abs(geo_transform[5])\n",
    "\n",
    "# summarize the transform\n",
    "print(\"Origin:          %11.6f,%11.6f\" % (origin_x, origin_y))\n",
    "print(\"Pixel size:      %11.6f,%11.6f\" % (pixel_size_x, pixel_size_y))\n",
    "print(\"Pixels/degree:   %11.6f,%11.6f\" % (1.0/pixel_size_x, 1.0/pixel_size_y))\n",
    "print(\"Top-left corner: %11.6f,%11.6f\" % (origin_x - pixel_size_x/2, origin_y - pixel_size_y/2))"
   ]
  },
  {
   "cell_type": "markdown",
   "metadata": {},
   "source": [
    "### Confirm that dimensions of data set is 120 x 120 pixels and 2000 bands"
   ]
  },
  {
   "cell_type": "code",
   "execution_count": 148,
   "metadata": {},
   "outputs": [
    {
     "name": "stdout",
     "output_type": "stream",
     "text": [
      "Dimensions: 120 x 120 pixels and 2000 bands\n"
     ]
    }
   ],
   "source": [
    "# extract the dimensions from the data file \n",
    "extent_in_pixels_x = dataset.RasterXSize\n",
    "extent_in_pixels_y = dataset.RasterYSize\n",
    "band_count         = dataset.RasterCount\n",
    "\n",
    "# confirm the dimensions are those expected\n",
    "assert extent_in_pixels_x == 120\n",
    "assert extent_in_pixels_y == 120\n",
    "assert band_count         == 2000\n",
    "\n",
    "# summarize the data file dimensions\n",
    "print('Dimensions: %d x %d pixels and %d bands' % (\n",
    "    extent_in_pixels_x, \n",
    "    extent_in_pixels_y, \n",
    "    band_count\n",
    "    )\n",
    ")"
   ]
  },
  {
   "cell_type": "markdown",
   "metadata": {},
   "source": [
    "### Note that the GetProjection() method returns an empty string for this data file"
   ]
  },
  {
   "cell_type": "code",
   "execution_count": 80,
   "metadata": {
    "scrolled": false
   },
   "outputs": [
    {
     "name": "stdout",
     "output_type": "stream",
     "text": [
      "Value returned from GetProjection() method on dataset: ''\n"
     ]
    }
   ],
   "source": [
    "print(\"Value returned from GetProjection() method on dataset: '%s'\" % (\n",
    "    dataset.GetProjection())\n",
    ")\n",
    "\n",
    "assert str(type(dataset.GetProjection())) == \"<class 'str'>\"\n",
    "assert dataset.GetProjection()            == ''"
   ]
  }
 ],
 "metadata": {
  "kernelspec": {
   "display_name": "Python 3",
   "language": "python",
   "name": "python3"
  },
  "language_info": {
   "codemirror_mode": {
    "name": "ipython",
    "version": 3
   },
   "file_extension": ".py",
   "mimetype": "text/x-python",
   "name": "python",
   "nbconvert_exporter": "python",
   "pygments_lexer": "ipython3",
   "version": "3.6.5"
  }
 },
 "nbformat": 4,
 "nbformat_minor": 2
}
