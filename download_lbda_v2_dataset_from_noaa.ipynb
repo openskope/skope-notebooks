{
 "cells": [
  {
   "cell_type": "code",
   "execution_count": 1,
   "metadata": {},
   "outputs": [],
   "source": [
    "import ipywidgets as widgets\n",
    "from IPython.display import HTML\n",
    "import math\n",
    "import os.path\n",
    "import pandas as pd\n",
    "import requests\n",
    "import osr\n",
    "import numpy as np\n",
    "from osgeo import gdal\n",
    "import affine\n",
    "import matplotlib.pyplot as plt"
   ]
  },
  {
   "cell_type": "markdown",
   "metadata": {},
   "source": [
    "# Download the LBDA data file"
   ]
  },
  {
   "cell_type": "markdown",
   "metadata": {},
   "source": [
    "### Define url of directory and file name of data to download from NOAA"
   ]
  },
  {
   "cell_type": "code",
   "execution_count": 2,
   "metadata": {},
   "outputs": [],
   "source": [
    "dataset_url = 'https://www1.ncdc.noaa.gov/pub/data/paleo/drought/LBDP-v2/'\n",
    "dataset_filename = 'lbda-v2_kddm_pmdi_2017.nc'"
   ]
  },
  {
   "cell_type": "markdown",
   "metadata": {},
   "source": [
    "### Specify where to download the data file"
   ]
  },
  {
   "cell_type": "code",
   "execution_count": 3,
   "metadata": {
    "scrolled": true
   },
   "outputs": [
    {
     "data": {
      "application/vnd.jupyter.widget-view+json": {
       "model_id": "0d4375a5569a4cdea8c1a454f5600867",
       "version_major": 2,
       "version_minor": 0
      },
      "text/plain": [
       "Text(value='/projects/skope/original/lbda_v2/', description='Download to')"
      ]
     },
     "metadata": {},
     "output_type": "display_data"
    },
    {
     "data": {
      "application/vnd.jupyter.widget-view+json": {
       "model_id": "049c21f8d15a40ec83399d07d139db02",
       "version_major": 2,
       "version_minor": 0
      },
      "text/plain": [
       "Button(description='Download not started', disabled=True, style=ButtonStyle())"
      ]
     },
     "metadata": {},
     "output_type": "display_data"
    }
   ],
   "source": [
    "download_to_directory = widgets.Text(\n",
    "    description = \"Download to\", value='/projects/skope/original/lbda_v2/')\n",
    "\n",
    "download_status = widgets.Button(\n",
    "    description = 'Download not started',\n",
    "    disabled    = True\n",
    ")\n",
    "\n",
    "display(\n",
    "    download_to_directory,\n",
    "    download_status\n",
    ")"
   ]
  },
  {
   "cell_type": "markdown",
   "metadata": {},
   "source": [
    "### Download the single file in the dataset if not already downloaded"
   ]
  },
  {
   "cell_type": "code",
   "execution_count": 4,
   "metadata": {},
   "outputs": [
    {
     "name": "stdout",
     "output_type": "stream",
     "text": [
      "lbda-v2_kddm_pmdi_2017.nc already downloaded\n"
     ]
    }
   ],
   "source": [
    "download_status.description = 'Downloading files'\n",
    "\n",
    "destination_dir = download_to_directory.value\n",
    "source_url = dataset_url + '/' + dataset_filename\n",
    "destination_path = destination_dir + '/' + dataset_filename\n",
    "\n",
    "if os.path.exists(destination_path):\n",
    "    print(dataset_filename, \"already downloaded\")\n",
    "else:        \n",
    "    print(\"Downloading\", dataset_filename)\n",
    "    response = requests.get(source_url)\n",
    "    assert response.status_code == 200\n",
    "    with open(destination_path, 'wb') as f:  \n",
    "        f.write(response.content)\n",
    "    print(\"Finished downloading\", dataset_filename)\n",
    "    \n",
    "download_status.description = 'Downloads complete'"
   ]
  },
  {
   "cell_type": "markdown",
   "metadata": {},
   "source": [
    "# Display properties of the downloaded data file"
   ]
  },
  {
   "cell_type": "markdown",
   "metadata": {},
   "source": [
    "### Load the data file into a GDAL dataset object"
   ]
  },
  {
   "cell_type": "code",
   "execution_count": 5,
   "metadata": {},
   "outputs": [],
   "source": [
    "# open the first GDD data file\n",
    "dataset = gdal.Open(destination_path)\n",
    "\n",
    "# confirm that a Dataset object was returned\n",
    "assert str((type(dataset))) == \"<class 'osgeo.gdal.Dataset'>\""
   ]
  },
  {
   "cell_type": "markdown",
   "metadata": {},
   "source": [
    "# Confirm that dimensions of data set is 115 x 48 pixels and 2018 bands"
   ]
  },
  {
   "cell_type": "code",
   "execution_count": 6,
   "metadata": {},
   "outputs": [
    {
     "name": "stdout",
     "output_type": "stream",
     "text": [
      "Dimensions: 115 x 48 pixels and 2018 bands\n"
     ]
    }
   ],
   "source": [
    "# extract the dimensions from the data file \n",
    "extent_in_pixels_x = dataset.RasterXSize\n",
    "extent_in_pixels_y = dataset.RasterYSize\n",
    "band_count         = dataset.RasterCount\n",
    "\n",
    "# confirm the dimensions are those expected\n",
    "assert extent_in_pixels_x == 115\n",
    "assert extent_in_pixels_y == 48\n",
    "assert band_count         == 2018\n",
    "\n",
    "# summarize the data file dimensions\n",
    "print('Dimensions: %d x %d pixels and %d bands' % (extent_in_pixels_x, extent_in_pixels_y,  band_count))"
   ]
  },
  {
   "cell_type": "markdown",
   "metadata": {},
   "source": [
    "### Load and display elements of the GDAL raster-to-projection coordinate transform"
   ]
  },
  {
   "cell_type": "code",
   "execution_count": 7,
   "metadata": {},
   "outputs": [
    {
     "name": "stdout",
     "output_type": "stream",
     "text": [
      "Origin:          -124.500000,  49.000000\n",
      "Pixel size:         0.500000,   0.500000\n",
      "Pixels/degree:      2.000000,   2.000000\n"
     ]
    }
   ],
   "source": [
    "# get the transform from the data file\n",
    "gt = dataset.GetGeoTransform()\n",
    "\n",
    "# confirm that this indeed is a North-Up transformation, i.e. that\n",
    "#    ignored elements of transform are both zero\n",
    "assert gt[2] == 0\n",
    "assert gt[4] == 0\n",
    "\n",
    "# extract the origin and pixel dimensions from the transform\n",
    "origin_x      = gt[0]\n",
    "origin_y      = gt[3]\n",
    "pixel_size_x  = abs(gt[1])\n",
    "pixel_size_y  = abs(gt[5])\n",
    "\n",
    "# summarize the transform\n",
    "print(\"Origin:          %11.6f,%11.6f\" % (origin_x, origin_y))\n",
    "print(\"Pixel size:      %11.6f,%11.6f\" % (pixel_size_x, pixel_size_y))\n",
    "print(\"Pixels/degree:   %11.6f,%11.6f\" % (1.0/pixel_size_x, 1.0/pixel_size_y))"
   ]
  },
  {
   "cell_type": "markdown",
   "metadata": {},
   "source": [
    "### Display output of gdalinfo"
   ]
  },
  {
   "cell_type": "code",
   "execution_count": 8,
   "metadata": {
    "scrolled": true
   },
   "outputs": [
    {
     "name": "stdout",
     "output_type": "stream",
     "text": [
      "Warning 1: No UNIDATA NC_GLOBAL:Conventions attribute\n",
      "Driver: netCDF/Network Common Data Format\n",
      "Files: /projects/skope/original/lbda_v2//lbda-v2_kddm_pmdi_2017.nc\n",
      "Size is 115, 48\n",
      "Coordinate System is `'\n",
      "Origin = (-124.500000000000000,49.000000000000000)\n",
      "Pixel Size = (0.500000000000000,-0.500000000000000)\n",
      "Corner Coordinates:\n",
      "Upper Left  (-124.5000000,  49.0000000) \n",
      "Lower Left  (-124.5000000,  25.0000000) \n",
      "Upper Right ( -67.0000000,  49.0000000) \n",
      "Lower Right ( -67.0000000,  25.0000000) \n",
      "Center      ( -95.7500000,  37.0000000) \n"
     ]
    }
   ],
   "source": [
    "!gdalinfo $destination_path -nomd | head -12"
   ]
  },
  {
   "cell_type": "markdown",
   "metadata": {},
   "source": [
    "### Get metadata dictionary from data file"
   ]
  },
  {
   "cell_type": "code",
   "execution_count": 9,
   "metadata": {
    "scrolled": true
   },
   "outputs": [
    {
     "data": {
      "text/html": [
       "<table border=\"1\" class=\"dataframe\">\n",
       "  <tbody>\n",
       "    <tr>\n",
       "      <th>lat#long_name</th>\n",
       "      <td>lat</td>\n",
       "    </tr>\n",
       "    <tr>\n",
       "      <th>lat#units</th>\n",
       "      <td>degrees_north</td>\n",
       "    </tr>\n",
       "    <tr>\n",
       "      <th>lon#long_name</th>\n",
       "      <td>lon</td>\n",
       "    </tr>\n",
       "    <tr>\n",
       "      <th>lon#units</th>\n",
       "      <td>degrees_east</td>\n",
       "    </tr>\n",
       "    <tr>\n",
       "      <th>NC_GLOBAL#title</th>\n",
       "      <td>Recalibration of Cook et al 2010 PMDI using GHCN 5km instrumental data and Kernel Density Distri...</td>\n",
       "    </tr>\n",
       "    <tr>\n",
       "      <th>NETCDF_DIM_EXTRA</th>\n",
       "      <td>{time}</td>\n",
       "    </tr>\n",
       "    <tr>\n",
       "      <th>NETCDF_DIM_time_DEF</th>\n",
       "      <td>{2018,6}</td>\n",
       "    </tr>\n",
       "    <tr>\n",
       "      <th>NETCDF_DIM_time_VALUES</th>\n",
       "      <td>{0,1,2,3,4,5,6,7,8,9,10,11,12,13,14,15,16,17,18,19,20,21,22,23,24,25,26,27,28,29,30,31,32,33,34,...</td>\n",
       "    </tr>\n",
       "    <tr>\n",
       "      <th>PMDI#long_name</th>\n",
       "      <td>Palmer modified drought index</td>\n",
       "    </tr>\n",
       "    <tr>\n",
       "      <th>PMDI#_FillValue</th>\n",
       "      <td>nan</td>\n",
       "    </tr>\n",
       "    <tr>\n",
       "      <th>time#long_name</th>\n",
       "      <td>time</td>\n",
       "    </tr>\n",
       "    <tr>\n",
       "      <th>time#units</th>\n",
       "      <td>year_CE</td>\n",
       "    </tr>\n",
       "  </tbody>\n",
       "</table>"
      ],
      "text/plain": [
       "<IPython.core.display.HTML object>"
      ]
     },
     "execution_count": 9,
     "metadata": {},
     "output_type": "execute_result"
    }
   ],
   "source": [
    "metadata = dataset.GetMetadata_Dict()\n",
    "metadata_df = pd.DataFrame.from_dict(dataset.GetMetadata_Dict(), 'index')\n",
    "pd.set_option('display.max_colwidth',100)\n",
    "HTML(metadata_df.to_html(header=False,justify='left'))"
   ]
  },
  {
   "cell_type": "markdown",
   "metadata": {},
   "source": [
    "### Extract key metadata elements"
   ]
  },
  {
   "cell_type": "code",
   "execution_count": 10,
   "metadata": {},
   "outputs": [
    {
     "name": "stdout",
     "output_type": "stream",
     "text": [
      "Name       : Palmer modified drought index\n",
      "Units      : year_CE\n",
      "Fill value : nan\n",
      "Title      : Recalibration of Cook et al 2010 PMDI using GHCN 5km instrumental data and Kernel Density Distribution Method\n"
     ]
    }
   ],
   "source": [
    "variable_name        = metadata['PMDI#long_name']\n",
    "variable_title       = metadata['NC_GLOBAL#title']\n",
    "variable_units       = metadata['time#units']\n",
    "variable_fillvalue   = metadata['PMDI#_FillValue']\n",
    "\n",
    "print('Name       : %s' % (variable_name))\n",
    "print('Units      : %s' % (variable_units))\n",
    "print('Fill value : %s' % (variable_fillvalue))\n",
    "print('Title      : %s' % (variable_title))\n"
   ]
  },
  {
   "cell_type": "markdown",
   "metadata": {},
   "source": [
    "# Analyze last band of downloaded data file"
   ]
  },
  {
   "cell_type": "markdown",
   "metadata": {},
   "source": [
    "### Display properties of the last band"
   ]
  },
  {
   "cell_type": "code",
   "execution_count": 11,
   "metadata": {},
   "outputs": [
    {
     "name": "stdout",
     "output_type": "stream",
     "text": [
      "width in pixels      : 115\n",
      "height in pixels     : 48\n",
      "block size           : [115, 1]\n",
      "units                : \n",
      "data type            : Float32\n",
      "data type size (bits): 32\n",
      "nodata value         : nan\n"
     ]
    }
   ],
   "source": [
    "# get the last band\n",
    "band = dataset.GetRasterBand(2018)\n",
    "\n",
    "# print out key properties of the band\n",
    "print('width in pixels      : %d' % (band.XSize))\n",
    "print('height in pixels     : %d' % (band.YSize))\n",
    "print('block size           : %s' % (band.GetBlockSize()))\n",
    "print('units                : %s' % (band.GetUnitType()))\n",
    "print('data type            : %s' % (gdal.GetDataTypeName(band.DataType)))\n",
    "print('data type size (bits): %s' % gdal.GetDataTypeSize(band.DataType))\n",
    "print('nodata value         : %f' % (band.GetNoDataValue()))"
   ]
  },
  {
   "cell_type": "markdown",
   "metadata": {},
   "source": [
    "### Access pixel values in band as a numpy array"
   ]
  },
  {
   "cell_type": "code",
   "execution_count": 12,
   "metadata": {},
   "outputs": [
    {
     "data": {
      "text/plain": [
       "array([[ nan,  nan,  nan, ...,  nan,  nan,  nan],\n",
       "       [1.37, 0.09, 1.15, ...,  nan,  nan,  nan],\n",
       "       [1.69, 0.05, 1.63, ...,  nan,  nan,  nan],\n",
       "       ...,\n",
       "       [ nan,  nan,  nan, ...,  nan,  nan,  nan],\n",
       "       [ nan,  nan,  nan, ...,  nan,  nan,  nan],\n",
       "       [ nan,  nan,  nan, ...,  nan,  nan,  nan]], dtype=float32)"
      ]
     },
     "metadata": {},
     "output_type": "display_data"
    }
   ],
   "source": [
    "# get band pixel values as a numpy array\n",
    "band_array = band.ReadAsArray()\n",
    "display(band_array)"
   ]
  },
  {
   "cell_type": "markdown",
   "metadata": {},
   "source": [
    "### Define a mask covering just the nodata values"
   ]
  },
  {
   "cell_type": "code",
   "execution_count": 13,
   "metadata": {},
   "outputs": [
    {
     "name": "stdout",
     "output_type": "stream",
     "text": [
      "[[ True  True  True ...  True  True  True]\n",
      " [False False False ...  True  True  True]\n",
      " [False False False ...  True  True  True]\n",
      " ...\n",
      " [ True  True  True ...  True  True  True]\n",
      " [ True  True  True ...  True  True  True]\n",
      " [ True  True  True ...  True  True  True]]\n"
     ]
    }
   ],
   "source": [
    "nodata_mask = np.isnan(band_array)\n",
    "print(nodata_mask)"
   ]
  },
  {
   "cell_type": "markdown",
   "metadata": {},
   "source": [
    "### Define a masked version of the band data array"
   ]
  },
  {
   "cell_type": "code",
   "execution_count": 14,
   "metadata": {},
   "outputs": [
    {
     "data": {
      "text/plain": [
       "masked_array(\n",
       "  data=[[--, --, --, ..., --, --, --],\n",
       "        [1.3700000047683716, 0.09000000357627869, 1.149999976158142, ...,\n",
       "         --, --, --],\n",
       "        [1.690000057220459, 0.05000000074505806, 1.6299999952316284, ...,\n",
       "         --, --, --],\n",
       "        ...,\n",
       "        [--, --, --, ..., --, --, --],\n",
       "        [--, --, --, ..., --, --, --],\n",
       "        [--, --, --, ..., --, --, --]],\n",
       "  mask=[[ True,  True,  True, ...,  True,  True,  True],\n",
       "        [False, False, False, ...,  True,  True,  True],\n",
       "        [False, False, False, ...,  True,  True,  True],\n",
       "        ...,\n",
       "        [ True,  True,  True, ...,  True,  True,  True],\n",
       "        [ True,  True,  True, ...,  True,  True,  True],\n",
       "        [ True,  True,  True, ...,  True,  True,  True]],\n",
       "  fill_value=1e+20,\n",
       "  dtype=float32)"
      ]
     },
     "execution_count": 14,
     "metadata": {},
     "output_type": "execute_result"
    }
   ],
   "source": [
    "masked_array = np.ma.array(band_array, mask = nodata_mask)\n",
    "masked_array"
   ]
  },
  {
   "cell_type": "markdown",
   "metadata": {},
   "source": [
    "### Demonstrate that the statistics for the masked array ignore the masked NODATA values"
   ]
  },
  {
   "cell_type": "code",
   "execution_count": 15,
   "metadata": {},
   "outputs": [
    {
     "name": "stdout",
     "output_type": "stream",
     "text": [
      "max  :  6.4300\n",
      "mean :  0.4580\n",
      "min  : -4.9800\n"
     ]
    }
   ],
   "source": [
    "print('max  : %7.4f' % (np.amax(masked_array)))\n",
    "print('mean : %7.4f' % (np.mean(masked_array)))\n",
    "print('min  : %7.4f' % (np.amin(masked_array)))"
   ]
  },
  {
   "cell_type": "markdown",
   "metadata": {},
   "source": [
    "### Demonstrate that contour plots ignore the masked NODATA values"
   ]
  },
  {
   "cell_type": "code",
   "execution_count": 16,
   "metadata": {
    "scrolled": false
   },
   "outputs": [
    {
     "data": {
      "image/png": "[encoded data removed]",
      "text/plain": [
       "<Figure size 1152x576 with 2 Axes>"
      ]
     },
     "metadata": {},
     "output_type": "display_data"
    }
   ],
   "source": [
    "%matplotlib inline\n",
    "plt.style.use('seaborn-white')\n",
    "\n",
    "x = np.linspace(-124.5, -67, 115)\n",
    "y = np.linspace(49, 25, 48)\n",
    "fig = plt.figure(figsize=(16,8))\n",
    "X, Y = np.meshgrid(x, y)\n",
    "plt.contourf(X, Y, masked_array, 20, cmap='jet')\n",
    "plt.colorbar();"
   ]
  },
  {
   "cell_type": "markdown",
   "metadata": {},
   "source": [
    "# Analyze distribution of values in data set as a whole"
   ]
  },
  {
   "cell_type": "markdown",
   "metadata": {},
   "source": [
    "### Load the entire dataset into a 3D nan-masked numpy array \n",
    "The array is indexed by: (**year**, **lat_index**, **long_index**)"
   ]
  },
  {
   "cell_type": "code",
   "execution_count": 17,
   "metadata": {},
   "outputs": [
    {
     "data": {
      "text/plain": [
       "(2018, 48, 115)"
      ]
     },
     "execution_count": 17,
     "metadata": {},
     "output_type": "execute_result"
    }
   ],
   "source": [
    "full_dataset_array = dataset.GetVirtualMemArray()\n",
    "full_dataset_mask = np.isnan(full_dataset_array)\n",
    "full_dataset_masked_array = np.ma.array(full_dataset_array, mask = full_dataset_mask)\n",
    "full_dataset_masked_array.shape"
   ]
  },
  {
   "cell_type": "markdown",
   "metadata": {},
   "source": [
    "### Compute min, max, and mean of values across entire dataset"
   ]
  },
  {
   "cell_type": "code",
   "execution_count": 18,
   "metadata": {
    "scrolled": true
   },
   "outputs": [
    {
     "name": "stdout",
     "output_type": "stream",
     "text": [
      "max :  17.6200\n",
      "mean:  -0.0517\n",
      "min : -13.7400\n"
     ]
    }
   ],
   "source": [
    "dataset_min  = np.amin(full_dataset_masked_array)\n",
    "dataset_max  = np.amax(full_dataset_masked_array)\n",
    "dataset_mean = np.mean(full_dataset_masked_array)\n",
    "\n",
    "print('max : %8.4f' % (dataset_max))\n",
    "print('mean: %8.4f' % (dataset_mean))\n",
    "print('min : %8.4f' % (dataset_min))\n"
   ]
  },
  {
   "cell_type": "markdown",
   "metadata": {},
   "source": [
    "### Define floor and ceiling for histogram leaving one empty bin at start and end"
   ]
  },
  {
   "cell_type": "code",
   "execution_count": 19,
   "metadata": {},
   "outputs": [
    {
     "name": "stdout",
     "output_type": "stream",
     "text": [
      "ceiling:  19\n",
      "floor  : -15\n",
      "bins   :  35\n"
     ]
    }
   ],
   "source": [
    "dataset_ceiling = math.ceil(dataset_max) + 1\n",
    "dataset_floor = math.floor(dataset_min) - 1\n",
    "dataset_bin_count = dataset_ceiling - dataset_floor + 1\n",
    "\n",
    "print('ceiling: %3d' % (dataset_ceiling))\n",
    "print('floor  : %3d' % (dataset_floor))\n",
    "print('bins   : %3d' % (dataset_bin_count))"
   ]
  },
  {
   "cell_type": "markdown",
   "metadata": {},
   "source": [
    "### Digitize the dataset and stire counts of pixel values in each bin in a dataframe"
   ]
  },
  {
   "cell_type": "code",
   "execution_count": 20,
   "metadata": {
    "scrolled": true
   },
   "outputs": [
    {
     "data": {
      "text/html": [
       "<table border=\"1\" class=\"dataframe\">\n",
       "  <thead>\n",
       "    <tr style=\"text-align: right;\">\n",
       "      <th>gte</th>\n",
       "      <th>lt</th>\n",
       "      <th>count</th>\n",
       "    </tr>\n",
       "  </thead>\n",
       "  <tbody>\n",
       "    <tr>\n",
       "      <td>-15.0</td>\n",
       "      <td>-14.0</td>\n",
       "      <td>0</td>\n",
       "    </tr>\n",
       "    <tr>\n",
       "      <td>-14.0</td>\n",
       "      <td>-13.0</td>\n",
       "      <td>2</td>\n",
       "    </tr>\n",
       "    <tr>\n",
       "      <td>-13.0</td>\n",
       "      <td>-12.0</td>\n",
       "      <td>10</td>\n",
       "    </tr>\n",
       "    <tr>\n",
       "      <td>-12.0</td>\n",
       "      <td>-11.0</td>\n",
       "      <td>20</td>\n",
       "    </tr>\n",
       "    <tr>\n",
       "      <td>-11.0</td>\n",
       "      <td>-10.0</td>\n",
       "      <td>76</td>\n",
       "    </tr>\n",
       "    <tr>\n",
       "      <td>-10.0</td>\n",
       "      <td>-9.0</td>\n",
       "      <td>218</td>\n",
       "    </tr>\n",
       "    <tr>\n",
       "      <td>-9.0</td>\n",
       "      <td>-8.0</td>\n",
       "      <td>511</td>\n",
       "    </tr>\n",
       "    <tr>\n",
       "      <td>-8.0</td>\n",
       "      <td>-7.0</td>\n",
       "      <td>1441</td>\n",
       "    </tr>\n",
       "    <tr>\n",
       "      <td>-7.0</td>\n",
       "      <td>-6.0</td>\n",
       "      <td>5075</td>\n",
       "    </tr>\n",
       "    <tr>\n",
       "      <td>-6.0</td>\n",
       "      <td>-5.0</td>\n",
       "      <td>18413</td>\n",
       "    </tr>\n",
       "    <tr>\n",
       "      <td>-5.0</td>\n",
       "      <td>-4.0</td>\n",
       "      <td>62597</td>\n",
       "    </tr>\n",
       "    <tr>\n",
       "      <td>-4.0</td>\n",
       "      <td>-3.0</td>\n",
       "      <td>177215</td>\n",
       "    </tr>\n",
       "    <tr>\n",
       "      <td>-3.0</td>\n",
       "      <td>-2.0</td>\n",
       "      <td>426196</td>\n",
       "    </tr>\n",
       "    <tr>\n",
       "      <td>-2.0</td>\n",
       "      <td>-1.0</td>\n",
       "      <td>799468</td>\n",
       "    </tr>\n",
       "    <tr>\n",
       "      <td>-1.0</td>\n",
       "      <td>0.0</td>\n",
       "      <td>1050984</td>\n",
       "    </tr>\n",
       "    <tr>\n",
       "      <td>0.0</td>\n",
       "      <td>1.0</td>\n",
       "      <td>981366</td>\n",
       "    </tr>\n",
       "    <tr>\n",
       "      <td>1.0</td>\n",
       "      <td>2.0</td>\n",
       "      <td>711759</td>\n",
       "    </tr>\n",
       "    <tr>\n",
       "      <td>2.0</td>\n",
       "      <td>3.0</td>\n",
       "      <td>389196</td>\n",
       "    </tr>\n",
       "    <tr>\n",
       "      <td>3.0</td>\n",
       "      <td>4.0</td>\n",
       "      <td>166672</td>\n",
       "    </tr>\n",
       "    <tr>\n",
       "      <td>4.0</td>\n",
       "      <td>5.0</td>\n",
       "      <td>61200</td>\n",
       "    </tr>\n",
       "    <tr>\n",
       "      <td>5.0</td>\n",
       "      <td>6.0</td>\n",
       "      <td>20035</td>\n",
       "    </tr>\n",
       "    <tr>\n",
       "      <td>6.0</td>\n",
       "      <td>7.0</td>\n",
       "      <td>6177</td>\n",
       "    </tr>\n",
       "    <tr>\n",
       "      <td>7.0</td>\n",
       "      <td>8.0</td>\n",
       "      <td>1983</td>\n",
       "    </tr>\n",
       "    <tr>\n",
       "      <td>8.0</td>\n",
       "      <td>9.0</td>\n",
       "      <td>821</td>\n",
       "    </tr>\n",
       "    <tr>\n",
       "      <td>9.0</td>\n",
       "      <td>10.0</td>\n",
       "      <td>269</td>\n",
       "    </tr>\n",
       "    <tr>\n",
       "      <td>10.0</td>\n",
       "      <td>11.0</td>\n",
       "      <td>105</td>\n",
       "    </tr>\n",
       "    <tr>\n",
       "      <td>11.0</td>\n",
       "      <td>12.0</td>\n",
       "      <td>37</td>\n",
       "    </tr>\n",
       "    <tr>\n",
       "      <td>12.0</td>\n",
       "      <td>13.0</td>\n",
       "      <td>8</td>\n",
       "    </tr>\n",
       "    <tr>\n",
       "      <td>13.0</td>\n",
       "      <td>14.0</td>\n",
       "      <td>8</td>\n",
       "    </tr>\n",
       "    <tr>\n",
       "      <td>14.0</td>\n",
       "      <td>15.0</td>\n",
       "      <td>4</td>\n",
       "    </tr>\n",
       "    <tr>\n",
       "      <td>15.0</td>\n",
       "      <td>16.0</td>\n",
       "      <td>1</td>\n",
       "    </tr>\n",
       "    <tr>\n",
       "      <td>16.0</td>\n",
       "      <td>17.0</td>\n",
       "      <td>0</td>\n",
       "    </tr>\n",
       "    <tr>\n",
       "      <td>17.0</td>\n",
       "      <td>18.0</td>\n",
       "      <td>1</td>\n",
       "    </tr>\n",
       "    <tr>\n",
       "      <td>18.0</td>\n",
       "      <td>19.0</td>\n",
       "      <td>0</td>\n",
       "    </tr>\n",
       "  </tbody>\n",
       "</table>"
      ],
      "text/plain": [
       "<IPython.core.display.HTML object>"
      ]
     },
     "execution_count": 20,
     "metadata": {},
     "output_type": "execute_result"
    }
   ],
   "source": [
    "bin_boundaries = np.linspace(dataset_floor, dataset_ceiling, dataset_bin_count)\n",
    "\n",
    "digitized = np.digitize(full_dataset_masked_array, bin_boundaries, right=True)\n",
    "digitize_indices, digitize_counts = np.unique(digitized, return_counts=True)\n",
    "bin_starts = bin_boundaries[:-1]\n",
    "\n",
    "bin_counts = [0 for x in range(dataset_ceiling - dataset_floor + 1)]\n",
    "for key, value in zip(digitize_indices, digitize_counts):\n",
    "    bin_counts[key-1] = value\n",
    "\n",
    "bins = pd.DataFrame({'gte': bin_starts, 'lt': bin_starts+1, 'count': bin_counts[:-1]})\n",
    "HTML(bins.to_html(index=False))"
   ]
  },
  {
   "cell_type": "markdown",
   "metadata": {},
   "source": [
    "### Plot the histogram"
   ]
  },
  {
   "cell_type": "code",
   "execution_count": 21,
   "metadata": {},
   "outputs": [
    {
     "data": {
      "text/plain": [
       "<BarContainer object of 34 artists>"
      ]
     },
     "execution_count": 21,
     "metadata": {},
     "output_type": "execute_result"
    },
    {
     "data": {
      "image/png": "[encoded data removed]",
      "text/plain": [
       "<Figure size 1152x576 with 1 Axes>"
      ]
     },
     "metadata": {},
     "output_type": "display_data"
    }
   ],
   "source": [
    "plt.figure(figsize=(16,8))\n",
    "plt.bar(x=bins['gte'], height=bins['count'])"
   ]
  },
  {
   "cell_type": "markdown",
   "metadata": {},
   "source": [
    "# Analyze distribution of missing (NaN) values in data set"
   ]
  },
  {
   "cell_type": "markdown",
   "metadata": {},
   "source": [
    "### Count NODATA pixels in each year of data"
   ]
  },
  {
   "cell_type": "code",
   "execution_count": 22,
   "metadata": {},
   "outputs": [],
   "source": [
    "missing_data_by_year = [ np.count_nonzero(full_dataset_mask[year-1]) \n",
    "                            for year in range(1,2019) ]\n",
    "#missing_data_by_year_df = pd.DataFrame({'year': range(1,2019), 'NODATA pixels': missing_data_by_year})\n",
    "#HTML(missing_data_by_year_df.to_html(index=False))"
   ]
  },
  {
   "cell_type": "markdown",
   "metadata": {},
   "source": [
    "### Confirm that going forward in time no year introduces NODATA values at new positions"
   ]
  },
  {
   "cell_type": "code",
   "execution_count": 23,
   "metadata": {},
   "outputs": [],
   "source": [
    "nodata_growth_years = []\n",
    "nodata_loss_years = []\n",
    "\n",
    "for i in range(0,2017):\n",
    "    or_of_consecutive_years = np.logical_or(full_dataset_mask[i],full_dataset_mask[i+1])\n",
    "    if not np.array_equal(or_of_consecutive_years, full_dataset_mask[i]):\n",
    "        nodata_growth_years.append(i+2)\n",
    "    if not np.array_equal(or_of_consecutive_years, full_dataset_mask[i+1]):\n",
    "        nodata_loss_years.append(i+2)\n",
    "    \n",
    "assert nodata_growth_years == []"
   ]
  },
  {
   "cell_type": "markdown",
   "metadata": {},
   "source": [
    "### List the years in which a NODATA pixel in the previous year  was replaced with a value"
   ]
  },
  {
   "cell_type": "code",
   "execution_count": 24,
   "metadata": {},
   "outputs": [
    {
     "name": "stdout",
     "output_type": "stream",
     "text": [
      "[211, 291, 366, 370, 471, 491, 526, 531, 533, 561, 599, 601, 603, 641, 727, 751, 761, 800, 838, 881, 900, 901, 921, 933, 951, 998, 999, 1018, 1073, 1098, 1136, 1165, 1189, 1201, 1254, 1255, 1287, 1351, 1363, 1381, 1386, 1399, 1405, 1474]\n"
     ]
    }
   ],
   "source": [
    "print(nodata_loss_years) "
   ]
  },
  {
   "cell_type": "markdown",
   "metadata": {},
   "source": [
    "### Plot number of NODATA pixels in each year"
   ]
  },
  {
   "cell_type": "code",
   "execution_count": 25,
   "metadata": {},
   "outputs": [
    {
     "data": {
      "image/png": "[encoded data removed]",
      "text/plain": [
       "<Figure size 1152x576 with 1 Axes>"
      ]
     },
     "metadata": {},
     "output_type": "display_data"
    }
   ],
   "source": [
    "fig = plt.figure(figsize=(16,8))\n",
    "ax = fig.add_subplot(1,1,1)\n",
    "ax.set_title(\"Number of NODATA values in each year of dataset\")\n",
    "ax.set_xlabel('Year (CE)')\n",
    "ax.set_ylabel(\"Number of NODATA values\")\n",
    "ax.set_xlim(1,2018)\n",
    "ax.set_xticks([1] + list(plt.xticks()[0][1:-2]) + [2018])\n",
    "ax.grid(True)\n",
    "ax.bar(x=range(1,2019), height=missing_data_by_year, width=1, alpha=0.5);"
   ]
  },
  {
   "cell_type": "markdown",
   "metadata": {},
   "source": [
    "# Create dashboard for browsing data year by year"
   ]
  },
  {
   "cell_type": "code",
   "execution_count": 26,
   "metadata": {},
   "outputs": [],
   "source": [
    "def plot_contours(year=1):\n",
    "    x = np.linspace(-124.5, -67, 115)\n",
    "    y = np.linspace(49, 25, 48)\n",
    "    plt.figure(figsize=(16,8))\n",
    "    X, Y = np.meshgrid(x, y)\n",
    "    plt.contourf( X, Y, full_dataset_masked_array[year-1], 20, cmap='jet', vmin=-8, vmax=+7)\n",
    "    plt.colorbar();"
   ]
  },
  {
   "cell_type": "code",
   "execution_count": 27,
   "metadata": {},
   "outputs": [
    {
     "data": {
      "image/png": "[encoded data removed]",
      "text/plain": [
       "<Figure size 1152x576 with 2 Axes>"
      ]
     },
     "metadata": {},
     "output_type": "display_data"
    }
   ],
   "source": [
    "%matplotlib inline\n",
    "plt.style.use('seaborn-white')\n",
    "\n",
    "plot_contours(year=2018)"
   ]
  },
  {
   "cell_type": "code",
   "execution_count": null,
   "metadata": {},
   "outputs": [],
   "source": []
  }
 ],
 "metadata": {
  "kernelspec": {
   "display_name": "Python 3",
   "language": "python",
   "name": "python3"
  },
  "language_info": {
   "codemirror_mode": {
    "name": "ipython",
    "version": 3
   },
   "file_extension": ".py",
   "mimetype": "text/x-python",
   "name": "python",
   "nbconvert_exporter": "python",
   "pygments_lexer": "ipython3",
   "version": "3.6.5"
  }
 },
 "nbformat": 4,
 "nbformat_minor": 2
}
