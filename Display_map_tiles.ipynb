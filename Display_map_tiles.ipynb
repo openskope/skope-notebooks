{
 "cells": [
  {
   "cell_type": "code",
   "execution_count": 1,
   "metadata": {},
   "outputs": [
    {
     "name": "stdout",
     "output_type": "stream",
     "text": [
      "0.5.0\n"
     ]
    }
   ],
   "source": [
    "import folium\n",
    "print(folium.__version__)"
   ]
  },
  {
   "cell_type": "code",
   "execution_count": 2,
   "metadata": {},
   "outputs": [],
   "source": [
    "map = folium.Map(\n",
    "    location=[35,-105], \n",
    "    zoom_start=3, \n",
    "    tiles=None,\n",
    "    crs='EPSG4326',\n",
    "    control_scale=True\n",
    ")"
   ]
  },
  {
   "cell_type": "code",
   "execution_count": 3,
   "metadata": {},
   "outputs": [
    {
     "data": {
      "text/plain": [
       "<folium.features.WmsTileLayer at 0x10557cb10>"
      ]
     },
     "execution_count": 3,
     "metadata": {},
     "output_type": "execute_result"
    }
   ],
   "source": [
    "folium.WmsTileLayer(\n",
    "    url=\"https://basemap.nationalmap.gov/arcgis/services/USGSTopo/MapServer/WmsServer?\",\n",
    "    layers=\"0\",\n",
    "    name=\"USGSTopo\",\n",
    "    fmt=\"image/png\",\n",
    "    version=\"1.3.0\",\n",
    "    transparent=True,\n",
    "    overlay=False,\n",
    "    control=False\n",
    ").add_to(map)"
   ]
  },
  {
   "cell_type": "code",
   "execution_count": 4,
   "metadata": {},
   "outputs": [
    {
     "data": {
      "text/plain": [
       "<folium.features.WmsTileLayer at 0x1055a2490>"
      ]
     },
     "execution_count": 4,
     "metadata": {},
     "output_type": "execute_result"
    }
   ],
   "source": [
    "folium.WmsTileLayer(\n",
    "    url=\"https://app.openskope.org/geoserver/SKOPE/wms?\",\n",
    "    layers=\"SKOPE:paleocar_ppt_0001-01-01\",\n",
    "    name=\"PaleoCAR PPT\",\n",
    "    fmt=\"image/png\",\n",
    "    version=\"1.3.0\",\n",
    "    transparent=True,\n",
    "    overlay=True\n",
    ").add_to(map)"
   ]
  },
  {
   "cell_type": "code",
   "execution_count": 5,
   "metadata": {},
   "outputs": [
    {
     "data": {
      "text/plain": [
       "<folium.features.WmsTileLayer at 0x1055a2410>"
      ]
     },
     "execution_count": 5,
     "metadata": {},
     "output_type": "execute_result"
    }
   ],
   "source": [
    "folium.WmsTileLayer(\n",
    "    url=\"https://app.openskope.org/geoserver/SKOPE/wms?\",\n",
    "    layers=\"SKOPE:paleocar_gdd_0001-01-01\",\n",
    "    name=\"PaleoCAR GDD\",\n",
    "    fmt=\"image/png\",\n",
    "    version=\"1.3.0\",\n",
    "    transparent=True,\n",
    "    overlay=True\n",
    ").add_to(map)"
   ]
  },
  {
   "cell_type": "code",
   "execution_count": 6,
   "metadata": {},
   "outputs": [],
   "source": [
    "map.add_child(folium.LayerControl(collapsed=False));\n",
    "map.add_child(folium.LatLngPopup());"
   ]
  },
  {
   "cell_type": "code",
   "execution_count": 7,
   "metadata": {},
   "outputs": [
    {
     "data": {
      "text/html": [
       "<div style=\"width:100%;\"><div style=\"position:relative;width:100%;height:0;padding-bottom:60%;\"><iframe src=\"data:text/html;charset=utf-8;base64,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\" style=\"position:absolute;width:100%;height:100%;left:0;top:0;border:none !important;\" allowfullscreen webkitallowfullscreen mozallowfullscreen></iframe></div></div>"
      ],
      "text/plain": [
       "<folium.folium.Map at 0x10557c550>"
      ]
     },
     "execution_count": 7,
     "metadata": {},
     "output_type": "execute_result"
    }
   ],
   "source": [
    "map"
   ]
  },
  {
   "cell_type": "code",
   "execution_count": null,
   "metadata": {},
   "outputs": [],
   "source": []
  },
  {
   "cell_type": "code",
   "execution_count": null,
   "metadata": {},
   "outputs": [],
   "source": []
  }
 ],
 "metadata": {
  "kernelspec": {
   "display_name": "Python 3",
   "language": "python",
   "name": "python3"
  },
  "language_info": {
   "codemirror_mode": {
    "name": "ipython",
    "version": 2
   },
   "file_extension": ".py",
   "mimetype": "text/x-python",
   "name": "python",
   "nbconvert_exporter": "python",
   "pygments_lexer": "ipython2",
   "version": "2.7.13"
  }
 },
 "nbformat": 4,
 "nbformat_minor": 2
}
